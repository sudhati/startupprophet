{
 "cells": [
  {
   "cell_type": "code",
   "execution_count": 8,
   "id": "d78b3b74-5254-449f-9606-d54708840495",
   "metadata": {},
   "outputs": [],
   "source": [
    "import pandas as pd\n",
    "import numpy as np\n",
    "import seaborn as sns\n",
    "import matplotlib.pyplot as plt\n",
    "%matplotlib inline\n",
    "sns.set(style=\"whitegrid\")\n"
   ]
  },
  {
   "cell_type": "code",
   "execution_count": 13,
   "id": "65d51b80-2d9d-40a0-8a2a-a125a781705a",
   "metadata": {},
   "outputs": [
    {
     "ename": "SyntaxError",
     "evalue": "(unicode error) 'unicodeescape' codec can't decode bytes in position 2-3: truncated \\UXXXXXXXX escape (3012005409.py, line 1)",
     "output_type": "error",
     "traceback": [
      "\u001b[1;36m  Cell \u001b[1;32mIn[13], line 1\u001b[1;36m\u001b[0m\n\u001b[1;33m    df=pd.read_csv('C:\\Users\\DELL\\Desktop\\startup prophet\\data set.csv')\u001b[0m\n\u001b[1;37m                                                                       ^\u001b[0m\n\u001b[1;31mSyntaxError\u001b[0m\u001b[1;31m:\u001b[0m (unicode error) 'unicodeescape' codec can't decode bytes in position 2-3: truncated \\UXXXXXXXX escape\n"
     ]
    }
   ],
   "source": [
    "df=pd.read_csv('C:\\Users\\DELL\\Desktop\\startup prophet\\data set.csv')"
   ]
  },
  {
   "cell_type": "code",
   "execution_count": null,
   "id": "0874eb53-616c-4505-adb2-b0eba11d71ec",
   "metadata": {},
   "outputs": [],
   "source": [
    "df"
   ]
  },
  {
   "cell_type": "code",
   "execution_count": null,
   "id": "438177b4-4654-4589-887a-0a5bbadb178a",
   "metadata": {},
   "outputs": [],
   "source": [
    "plt.figure(figsize=(12,5))\n",
    "plt.subplot(131)\n",
    "sns.distplot(df['relationships'],color='y')\n",
    "plt.subplot(132)\n",
    "sns.distplot(df['funding_rounds'])\n",
    "plt.show()"
   ]
  },
  {
   "cell_type": "code",
   "execution_count": null,
   "id": "18b2cb88-40e3-44f7-bd22-037d973de063",
   "metadata": {},
   "outputs": [],
   "source": [
    "sns.countplot(x='funding_rounds',hue='status',data=df,palette='nipy_spectral',order=df.funding_rounds.value_counts().index)"
   ]
  },
  {
   "cell_type": "code",
   "execution_count": null,
   "id": "845f005f-612a-47bf-9cf9-dfe187c5e22d",
   "metadata": {},
   "outputs": [],
   "source": []
  },
  {
   "cell_type": "code",
   "execution_count": null,
   "id": "92ef80a9-bf3b-45df-9c2b-d46075e67035",
   "metadata": {},
   "outputs": [],
   "source": [
    "sns.countplot(x=df['labels'],palette='viridis')"
   ]
  },
  {
   "cell_type": "code",
   "execution_count": null,
   "id": "ae753c3d-19d8-40e9-bfde-2902a6cf3edd",
   "metadata": {},
   "outputs": [],
   "source": [
    "df.info()"
   ]
  },
  {
   "cell_type": "code",
   "execution_count": null,
   "id": "532fe025-7496-4d6e-979d-2dad4fc4d750",
   "metadata": {},
   "outputs": [],
   "source": [
    "df.describe"
   ]
  },
  {
   "cell_type": "code",
   "execution_count": null,
   "id": "c0c44171-56a6-4ffb-8739-444e04fa7c13",
   "metadata": {},
   "outputs": [],
   "source": [
    "df.isnull().sum()"
   ]
  },
  {
   "cell_type": "code",
   "execution_count": null,
   "id": "9547323f-c4fb-4a1e-8a23-e27b4264bca9",
   "metadata": {},
   "outputs": [],
   "source": [
    "df.shape"
   ]
  },
  {
   "cell_type": "code",
   "execution_count": null,
   "id": "714dd009-34e5-4321-ad73-e88d7a17d521",
   "metadata": {},
   "outputs": [],
   "source": [
    "df=df.drop(columns=['Unnamed: 0', 'state_code', 'latitude', 'longitude', 'zip_code', 'id','city', 'Unnamed: 6', 'name',  'founded_at'])"
   ]
  },
  {
   "cell_type": "code",
   "execution_count": null,
   "id": "31983763-4b04-4af5-9783-d635f8a56591",
   "metadata": {},
   "outputs": [],
   "source": [
    "df=df.drop(columns=['avg_participants','status','is_biotech', 'is_consulting',\n",
    "       'is_othercategory', 'object_id','category_code', 'is_software',\n",
    "       'is_web', 'is_mobile', 'is_enterprise', 'is_advertising',\n",
    "       'is_gamesvideo','state_code.1', 'is_CA', 'is_NY',\n",
    "       'is_MA', 'is_TX','funding_total_usd','closed_at',\n",
    "       'first_funding_at', 'last_funding_at', 'age_first_funding_year',\n",
    "       'age_last_funding_year', 'age_first_milestone_year',\n",
    "       'age_last_milestone_year'])"
   ]
  },
  {
   "cell_type": "code",
   "execution_count": null,
   "id": "8f9080fc-e7b8-4d0d-9c51-a6dcb82b82df",
   "metadata": {},
   "outputs": [],
   "source": [
    "df.shape"
   ]
  },
  {
   "cell_type": "code",
   "execution_count": null,
   "id": "7bc00902-feb8-4a18-b36e-a91809d6d8ba",
   "metadata": {},
   "outputs": [],
   "source": [
    "df.dtypes"
   ]
  },
  {
   "cell_type": "code",
   "execution_count": null,
   "id": "eb55c86b-9895-4c99-90b0-8815ca621086",
   "metadata": {},
   "outputs": [],
   "source": [
    "x=df.drop(columns=['labels'],axis=1)\n",
    "y=df['labels']"
   ]
  },
  {
   "cell_type": "code",
   "execution_count": null,
   "id": "1ce60ec8-9b82-48c5-b76b-a24c25bb23ff",
   "metadata": {},
   "outputs": [],
   "source": [
    "from sklearn.preprocessing import StandardScaler\n",
    "sc=StandardScaler()\n",
    "x=sc.fit_transform(x)\n",
    "x"
   ]
  },
  {
   "cell_type": "code",
   "execution_count": null,
   "id": "b5bc1d56-484e-4376-ab27-8733dc437558",
   "metadata": {},
   "outputs": [],
   "source": [
    "x=pd.DataFrame(x)"
   ]
  },
  {
   "cell_type": "code",
   "execution_count": null,
   "id": "055f3243-531c-46b6-a132-9124a82ef6a8",
   "metadata": {},
   "outputs": [],
   "source": [
    "from imblearn.over_sampling import SMOTE\n",
    "smote=SMOTE(sampling_strategy='auto',random_state=42)\n",
    "x_bal,y_bal=smote.fit_resample(x,y)"
   ]
  },
  {
   "cell_type": "code",
   "execution_count": null,
   "id": "38c89ddd-1cf1-4e05-86ce-fc1d3cf76804",
   "metadata": {},
   "outputs": [],
   "source": [
    "from sklearn.model_selection import train_test_split\n",
    "x_train,x_test,y_train,y_test=train_test_split(x_bal,y_bal,test_size=0.3,random_state=42)"
   ]
  },
  {
   "cell_type": "code",
   "execution_count": null,
   "id": "8bdf885a-4277-4335-af81-0f3f8c6946ef",
   "metadata": {},
   "outputs": [],
   "source": [
    "from sklearn.linear_model import LogisticRegression\n",
    "lr=LogisticRegression()\n",
    "lr.fit(x_bal,y_bal)\n",
    "y_pred=lr.predict(x_test)"
   ]
  },
  {
   "cell_type": "code",
   "execution_count": null,
   "id": "7469abf9-f5ca-42f2-b413-a73096090ec5",
   "metadata": {},
   "outputs": [],
   "source": [
    "from sklearn.metrics import confusion_matrix,accuracy_score,classification_report\n",
    "print(confusion_matrix(y_test,y_pred))\n",
    "print(classification_report(y_test,y_pred))"
   ]
  },
  {
   "cell_type": "code",
   "execution_count": null,
   "id": "074957e3-946f-4d72-975e-54d165803c00",
   "metadata": {},
   "outputs": [],
   "source": [
    "from sklearn.metrics import log_loss\n",
    "print(log_loss(y_test,y_pred))"
   ]
  },
  {
   "cell_type": "code",
   "execution_count": null,
   "id": "15ebc368-30dd-482c-a1fb-986522dc408e",
   "metadata": {},
   "outputs": [],
   "source": [
    "from sklearn.svm import SVC\n",
    "svm=SVC(kernel='rbf',C=2.0,random_state=42)\n",
    "svm.fit(x_bal,y_bal)\n",
    "y_predict=svm.predict(x_test)"
   ]
  },
  {
   "cell_type": "code",
   "execution_count": null,
   "id": "bdd8fbf5-6e36-4df8-be0a-5de1f286cca1",
   "metadata": {},
   "outputs": [],
   "source": [
    "print(confusion_matrix(y_test,y_predict))\n",
    "print(confusion_matrix(y_test,y_predict))"
   ]
  },
  {
   "cell_type": "code",
   "execution_count": null,
   "id": "ec142b01-4b89-4e10-b4db-6aa9e9b94a80",
   "metadata": {},
   "outputs": [],
   "source": [
    "from sklearn.ensemble import RandomForestClassifier\n",
    "rf=RandomForestClassifier()\n",
    "rf.fit(x_bal,y_bal)\n",
    "rftest=rf.predict(x_test)\n",
    "rftrain=rf.predict(x_train)\n",
    "print(confusion_matrix(rftest,y_test))\n",
    "print(confusion_matrix(rftrain,y_train))\n",
    "print(classification_report(rftest,y_test))\n",
    "print(classification_report(rftrain,y_train))"
   ]
  },
  {
   "cell_type": "code",
   "execution_count": null,
   "id": "a53db12a-3f74-4ba6-b4bc-260d94b88658",
   "metadata": {},
   "outputs": [],
   "source": [
    "from sklearn.metrics import log_loss\n",
    "print(log_loss(rftest,y_test))"
   ]
  },
  {
   "cell_type": "code",
   "execution_count": null,
   "id": "7bb865d4-6e58-4c1c-bef5-6410e6ae2f1f",
   "metadata": {},
   "outputs": [],
   "source": [
    "df.head()"
   ]
  },
  {
   "cell_type": "code",
   "execution_count": null,
   "id": "14cabda8-c68d-457a-a1a6-187a3ce49e58",
   "metadata": {},
   "outputs": [],
   "source": [
    "rf.predict([[3,3,3,0,0,0,1,0,0,0,0,0]])"
   ]
  },
  {
   "cell_type": "code",
   "execution_count": null,
   "id": "e2d748f5-6dbc-475e-bd92-e3ac1f3c6393",
   "metadata": {},
   "outputs": [],
   "source": [
    "rf.predict([[9,\t4,\t1\t,0,\t0,\t1,\t0,\t0,\t1,\t1,\t1,\t1]])"
   ]
  },
  {
   "cell_type": "code",
   "execution_count": null,
   "id": "a9c3152a-2158-4363-98ba-71ee033425e9",
   "metadata": {},
   "outputs": [],
   "source": [
    "import pickle\n",
    "import warnings\n",
    "warnings.filterwarnings('ignore')"
   ]
  },
  {
   "cell_type": "code",
   "execution_count": null,
   "id": "3980bd32-6591-487a-bffa-7aaf7c2de245",
   "metadata": {},
   "outputs": [],
   "source": [
    "pickle.dump(rf,open(\"Randf.pkl\",'wb'))"
   ]
  },
  {
   "cell_type": "code",
   "execution_count": null,
   "id": "e5da458f-e343-45e6-9064-bd251f3af239",
   "metadata": {},
   "outputs": [],
   "source": [
    "import joblib\n",
    "joblib.dump(rf,\"Randf.joblib\")"
   ]
  },
  {
   "cell_type": "code",
   "execution_count": null,
   "id": "65c393e1-72b0-40af-8545-6c89d001d03a",
   "metadata": {},
   "outputs": [],
   "source": []
  }
 ],
 "metadata": {
  "kernelspec": {
   "display_name": "Python 3 (ipykernel)",
   "language": "python",
   "name": "python3"
  },
  "language_info": {
   "codemirror_mode": {
    "name": "ipython",
    "version": 3
   },
   "file_extension": ".py",
   "mimetype": "text/x-python",
   "name": "python",
   "nbconvert_exporter": "python",
   "pygments_lexer": "ipython3",
   "version": "3.11.7"
  }
 },
 "nbformat": 4,
 "nbformat_minor": 5
}
